{
 "cells": [
  {
   "cell_type": "code",
   "execution_count": 5,
   "metadata": {},
   "outputs": [
    {
     "name": "stdout",
     "output_type": "stream",
     "text": [
      "⚠️ Aucun classement disponible pour 2025\n",
      "✅ Données enregistrées dans data/classement/classement_f1_2024.md\n",
      "✅ Données enregistrées dans data/classement/classement_f1_2023.md\n",
      "✅ Données enregistrées dans data/classement/classement_f1_2022.md\n",
      "✅ Données enregistrées dans data/classement/classement_f1_2021.md\n",
      "✅ Données enregistrées dans data/classement/classement_f1_2020.md\n"
     ]
    }
   ],
   "source": [
    "import requests\n",
    "import pandas as pd\n",
    "\n",
    "# Liste des années à scraper\n",
    "years = [2025, 2024, 2023, 2022, 2021, 2020]\n",
    "\n",
    "# Boucle pour récupérer les classements des pilotes de chaque année\n",
    "for year in years:\n",
    "    url = f\"http://ergast.com/api/f1/{year}/driverStandings.json\"\n",
    "    response = requests.get(url)\n",
    "    \n",
    "    if response.status_code == 200:\n",
    "        data = response.json()\n",
    "        standings = data[\"MRData\"].get(\"StandingsTable\", {}).get(\"StandingsLists\", [])\n",
    "        \n",
    "        if standings:\n",
    "            standings = standings[0][\"DriverStandings\"]\n",
    "            \n",
    "            # Création du texte Markdown\n",
    "            md_content = f\"# Classement des pilotes F1 - {year}\\n\\n\"\n",
    "            md_content += \"| Position | Pilote | Équipe | Points | Victoires |\\n\"\n",
    "            md_content += \"|----------|--------|--------|--------|-----------|\\n\"\n",
    "\n",
    "            for driver in standings:\n",
    "                position = driver[\"position\"]\n",
    "                name = f\"{driver['Driver']['givenName']} {driver['Driver']['familyName']}\"\n",
    "                team = driver[\"Constructors\"][0][\"name\"]\n",
    "                points = driver[\"points\"]\n",
    "                wins = driver[\"wins\"]\n",
    "                md_content += f\"| {position} | {name} | {team} | {points} | {wins} |\\n\"\n",
    "\n",
    "            # Sauvegarde en fichier Markdown\n",
    "            filename = f\"data/classement/classement_f1_{year}.md\"\n",
    "            with open(filename, \"w\", encoding=\"utf-8\") as f:\n",
    "                f.write(md_content)\n",
    "            \n",
    "            print(f\"✅ Données enregistrées dans {filename}\")\n",
    "        else:\n",
    "            print(f\"⚠️ Aucun classement disponible pour {year}\")\n",
    "    else:\n",
    "        print(f\"❌ Erreur de connexion à l'API Ergast pour l'année {year}\")\n"
   ]
  },
  {
   "cell_type": "code",
   "execution_count": 1,
   "metadata": {},
   "outputs": [
    {
     "name": "stdout",
     "output_type": "stream",
     "text": [
      "⚠️ Aucun circuit disponible pour 2025\n",
      "✅ Données enregistrées dans data/circuits/circuits_f1_2024.md\n",
      "✅ Données enregistrées dans data/circuits/circuits_f1_2023.md\n",
      "✅ Données enregistrées dans data/circuits/circuits_f1_2022.md\n",
      "✅ Données enregistrées dans data/circuits/circuits_f1_2021.md\n",
      "✅ Données enregistrées dans data/circuits/circuits_f1_2020.md\n"
     ]
    }
   ],
   "source": [
    "import requests\n",
    "import pandas as pd\n",
    "\n",
    "# Liste des années à scraper\n",
    "years = [2025, 2024, 2023, 2022, 2021, 2020]\n",
    "\n",
    "# Boucle pour récupérer les circuits de chaque année\n",
    "for year in years:\n",
    "    url = f\"http://ergast.com/api/f1/{year}/circuits.json\"\n",
    "    response = requests.get(url)\n",
    "    \n",
    "    if response.status_code == 200:\n",
    "        data = response.json()\n",
    "        circuits = data[\"MRData\"].get(\"CircuitTable\", {}).get(\"Circuits\", [])\n",
    "        \n",
    "        if circuits:\n",
    "            # Création du texte Markdown\n",
    "            md_content = f\"# Circuits de F1 - {year}\\n\\n\"\n",
    "            md_content += \"| Circuit | Ville | Pays | Lien |\\n\"\n",
    "            md_content += \"|---------|------|------|------|\\n\"\n",
    "\n",
    "            for circuit in circuits:\n",
    "                name = circuit[\"circuitName\"]\n",
    "                location = circuit[\"Location\"][\"locality\"]\n",
    "                country = circuit[\"Location\"][\"country\"]\n",
    "                url = circuit[\"url\"]\n",
    "                md_content += f\"| {name} | {location} | {country} | [Lien]({url}) |\\n\"\n",
    "\n",
    "            # Sauvegarde en fichier Markdown\n",
    "            filename = f\"data/circuits/circuits_f1_{year}.md\"\n",
    "            with open(filename, \"w\", encoding=\"utf-8\") as f:\n",
    "                f.write(md_content)\n",
    "            \n",
    "            print(f\"✅ Données enregistrées dans {filename}\")\n",
    "        else:\n",
    "            print(f\"⚠️ Aucun circuit disponible pour {year}\")\n",
    "    else:\n",
    "        print(f\"❌ Erreur de connexion à l'API Ergast pour l'année {year}\")"
   ]
  },
  {
   "cell_type": "code",
   "execution_count": 2,
   "metadata": {},
   "outputs": [
    {
     "name": "stdout",
     "output_type": "stream",
     "text": [
      "⚠️ Aucun constructeur disponible pour 2025\n",
      "✅ Données enregistrées dans data/constructeurs/constructeurs_f1_2024.md\n",
      "✅ Données enregistrées dans data/constructeurs/constructeurs_f1_2023.md\n",
      "✅ Données enregistrées dans data/constructeurs/constructeurs_f1_2022.md\n",
      "✅ Données enregistrées dans data/constructeurs/constructeurs_f1_2021.md\n",
      "✅ Données enregistrées dans data/constructeurs/constructeurs_f1_2020.md\n"
     ]
    }
   ],
   "source": [
    "import requests\n",
    "import pandas as pd\n",
    "\n",
    "# Liste des années à scraper\n",
    "years = [2025, 2024, 2023, 2022, 2021, 2020]\n",
    "\n",
    "# Boucle pour récupérer les constructeurs de chaque année\n",
    "for year in years:\n",
    "    url = f\"http://ergast.com/api/f1/{year}/constructors.json\"\n",
    "    response = requests.get(url)\n",
    "    \n",
    "    if response.status_code == 200:\n",
    "        data = response.json()\n",
    "        constructors = data[\"MRData\"].get(\"ConstructorTable\", {}).get(\"Constructors\", [])\n",
    "        \n",
    "        if constructors:\n",
    "            # Création du texte Markdown\n",
    "            md_content = f\"# Constructeurs de F1 - {year}\\n\\n\"\n",
    "            md_content += \"| ID | Nom | Nationalité | Lien |\\n\"\n",
    "            md_content += \"|----|-----|-------------|------|\\n\"\n",
    "\n",
    "            for constructor in constructors:\n",
    "                constructor_id = constructor[\"constructorId\"]\n",
    "                name = constructor[\"name\"]\n",
    "                nationality = constructor[\"nationality\"]\n",
    "                url = constructor[\"url\"]\n",
    "                md_content += f\"| {constructor_id} | {name} | {nationality} | [Lien]({url}) |\\n\"\n",
    "\n",
    "            # Sauvegarde en fichier Markdown\n",
    "            filename = f\"data/constructeurs/constructeurs_f1_{year}.md\"\n",
    "            with open(filename, \"w\", encoding=\"utf-8\") as f:\n",
    "                f.write(md_content)\n",
    "            \n",
    "            print(f\"✅ Données enregistrées dans {filename}\")\n",
    "        else:\n",
    "            print(f\"⚠️ Aucun constructeur disponible pour {year}\")\n",
    "    else:\n",
    "        print(f\"❌ Erreur de connexion à l'API Ergast pour l'année {year}\")\n"
   ]
  },
  {
   "cell_type": "code",
   "execution_count": 3,
   "metadata": {},
   "outputs": [
    {
     "name": "stdout",
     "output_type": "stream",
     "text": [
      "⚠️ Aucune course disponible pour 2025\n",
      "✅ Calendrier des courses enregistré dans data/calendrier/calendrier_f1_2024.md\n",
      "✅ Calendrier des courses enregistré dans data/calendrier/calendrier_f1_2023.md\n",
      "✅ Calendrier des courses enregistré dans data/calendrier/calendrier_f1_2022.md\n",
      "✅ Calendrier des courses enregistré dans data/calendrier/calendrier_f1_2021.md\n",
      "✅ Calendrier des courses enregistré dans data/calendrier/calendrier_f1_2020.md\n"
     ]
    }
   ],
   "source": [
    "import requests\n",
    "import pandas as pd\n",
    "\n",
    "# Liste des années à scraper\n",
    "years = [2025, 2024, 2023, 2022, 2021, 2020]\n",
    "\n",
    "# Boucle pour récupérer le calendrier des courses de chaque année\n",
    "for year in years:\n",
    "    url = f\"http://ergast.com/api/f1/{year}.json\"\n",
    "    response = requests.get(url)\n",
    "    \n",
    "    if response.status_code == 200:\n",
    "        data = response.json()\n",
    "        races = data[\"MRData\"].get(\"RaceTable\", {}).get(\"Races\", [])\n",
    "        \n",
    "        if races:\n",
    "            # Création du texte Markdown\n",
    "            md_content = f\"# Calendrier des courses de F1 - {year}\\n\\n\"\n",
    "            md_content += \"| Manche | Grand Prix | Circuit | Ville | Pays | Date | Heure |\\n\"\n",
    "            md_content += \"|--------|------------|---------|------|------|------|-------|\\n\"\n",
    "\n",
    "            for race in races:\n",
    "                round_num = race[\"round\"]\n",
    "                race_name = race[\"raceName\"]\n",
    "                circuit_name = race[\"Circuit\"][\"circuitName\"]\n",
    "                locality = race[\"Circuit\"][\"Location\"][\"locality\"]\n",
    "                country = race[\"Circuit\"][\"Location\"][\"country\"]\n",
    "                date = race[\"date\"]\n",
    "                time = race.get(\"time\", \"N/A\")\n",
    "                md_content += f\"| {round_num} | {race_name} | {circuit_name} | {locality} | {country} | {date} | {time} |\\n\"\n",
    "\n",
    "            # Sauvegarde en fichier Markdown\n",
    "            filename = f\"data/calendrier/calendrier_f1_{year}.md\"\n",
    "            with open(filename, \"w\", encoding=\"utf-8\") as f:\n",
    "                f.write(md_content)\n",
    "            \n",
    "            print(f\"✅ Calendrier des courses enregistré dans {filename}\")\n",
    "        else:\n",
    "            print(f\"⚠️ Aucune course disponible pour {year}\")\n",
    "    else:\n",
    "        print(f\"❌ Erreur de connexion à l'API Ergast pour l'année {year}\")"
   ]
  }
 ],
 "metadata": {
  "kernelspec": {
   "display_name": "Python 3",
   "language": "python",
   "name": "python3"
  },
  "language_info": {
   "codemirror_mode": {
    "name": "ipython",
    "version": 3
   },
   "file_extension": ".py",
   "mimetype": "text/x-python",
   "name": "python",
   "nbconvert_exporter": "python",
   "pygments_lexer": "ipython3",
   "version": "3.12.8"
  }
 },
 "nbformat": 4,
 "nbformat_minor": 2
}
